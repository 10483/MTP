{
 "cells": [
  {
   "cell_type": "code",
   "execution_count": 3,
   "metadata": {},
   "outputs": [],
   "source": [
    "import numpy as np\n",
    "from scipy.integrate import dblquad\n",
    "from scipy.optimize import curve_fit\n",
    "from scipy.optimize import fsolve\n",
    "from tqdm import tqdm\n",
    "import os\n",
    "import re\n",
    "import matplotlib.pyplot as plt\n",
    "plt.rcParams.update({\n",
    "    \"text.usetex\": True,\n",
    "    \"font.family\": \"Computer Modern\",\n",
    "    \"figure.dpi\": 100,\n",
    "})\n",
    "%matplotlib widget\n",
    "\n",
    "class fixed_values:\n",
    "  def __init__(self):\n",
    "    self.h=4.135667e-9 #eV us\n",
    "    self.hbar=self.h/(2*np.pi) #eV us rad-1\n",
    "    self.c=299792458 #um/us\n",
    "    self.k_B=8.617343e-5 #eV/K\n",
    "    self.eta_pb_max=0.59\n",
    "    self.energy_au=27.211386 #eV\n",
    "    self.time_au=2.418884e-11 #us\n",
    "    self.length_au=5.291772e-5 #um\n",
    "consts = fixed_values()"
   ]
  },
  {
   "cell_type": "code",
   "execution_count": 4,
   "metadata": {},
   "outputs": [
    {
     "name": "stdout",
     "output_type": "stream",
     "text": [
      "136.0405665478132 = D (um2/us)\n"
     ]
    },
    {
     "data": {
      "text/plain": [
       "0.09978525663653781"
      ]
     },
     "execution_count": 4,
     "metadata": {},
     "output_type": "execute_result"
    }
   ],
   "source": [
    "length = 90\n",
    "width = 10\n",
    "height = 0.04\n",
    "\n",
    "v_L = 4.09e3 #um/us\n",
    "\n",
    "def distfunc(phi,theta):\n",
    "    return np.min(np.stack([height/2/np.sqrt(1-np.sin(phi)**2),length/2/np.sqrt(1-np.sin(theta)**2),width/2/np.sqrt(1-np.sin(np.pi/2-theta)**2)],axis=-1),axis=-1)\n",
    "\n",
    "mfp = dblquad(distfunc,0,np.pi/2,0,np.pi/2)[0]*4/np.pi**2\n",
    "\n",
    "D_ph = mfp*v_L/3\n",
    "\n",
    "print(D_ph, '= D (um2/us)')\n",
    "mfp"
   ]
  },
  {
   "cell_type": "code",
   "execution_count": 5,
   "metadata": {},
   "outputs": [
    {
     "name": "stdout",
     "output_type": "stream",
     "text": [
      "528.3284283806961 = kl >> 1 ?\n",
      "31.758991174537467 = alpha (/um)\n",
      "7.698568766319552e-06 = tau_ph-e (us)\n",
      "42.927476059956696 = D (um2/us)\n",
      "0.03148714625424697\n"
     ]
    }
   ],
   "source": [
    "#Al phonon times\n",
    "nue = 17.2e9 #eV-1 um-3\n",
    "D=15000 #um2 us-1\n",
    "Tc = 1.11 #K\n",
    "Delta = 1.768*consts.k_B*Tc #eV\n",
    "omega_D = 9.66e7 #in MHz rad\n",
    "T_D = consts.hbar*omega_D/consts.k_B #K\n",
    "\n",
    "# energy per particle, consts.k_B*T_D (Debye), 3*Delta (E2)\n",
    "E=consts.k_B*T_D\n",
    "\n",
    "omega = E/consts.hbar #rad/us = MHz rad\n",
    "f = omega/(2*np.pi) # MHz\n",
    "T = 0.2 #K\n",
    "\n",
    "def calcN():\n",
    "    rho_m = 17.1 #g cm-3\n",
    "    Z = 2 #valence electrons per atom\n",
    "    m_a = 180.94788 #u\n",
    "    N_A = 6.022e23 #u/g\n",
    "    return N_A * Z * rho_m / m_a * 1e-12 # electrons um-3\n",
    "N=calcN()\n",
    "\n",
    "rho_m = 17.1*5.61e32/consts.c**2 *1e-12#eV c-2 um-3\n",
    "\n",
    "v_L = 4.09e3 #um/us\n",
    "\n",
    "p_fermi = np.sqrt((consts.hbar)**2*(3*np.pi**2*N)**(2/3))\n",
    "k_fermi = p_fermi/consts.hbar\n",
    "\n",
    "mstar = 2*consts.hbar**2*nue*np.pi**2/k_fermi # from suppl\n",
    "\n",
    "tau_elastic = nue*D*mstar/N # <= Einstein relation (sigma = e^2 N(0) D) and drude effective mass, tau elastic time\n",
    "v_fermi = p_fermi/mstar\n",
    "\n",
    "l=v_fermi*tau_elastic\n",
    "k=omega/v_L\n",
    "print(k*l, '= kl >> 1 ?')\n",
    "\n",
    "alpha_L = N*mstar/(rho_m*v_L*tau_elastic) * (1/3 * (k**2*l**2*np.arctan(k*l)/(k*l-np.arctan(k*l))) - 1)\n",
    "print(alpha_L, '= alpha (/um)')\n",
    "\n",
    "# alpha_corr = alpha_L * 2/(np.exp(Delta/(consts.k_B*T))+1)\n",
    "# print(alpha_corr) # nvt omdat op hoge energieën / lage temperaturen attenuation kan door cooper paren te breken, wat ongv gelijk is aan de normal electron density.\n",
    "\n",
    "tau_ph = 1/(v_L*alpha_L)\n",
    "print(tau_ph, '= tau_ph-e (us)')\n",
    "\n",
    "D_ph = v_L**2*tau_ph/3\n",
    "print(D_ph, '= D (um2/us)')\n",
    "\n",
    "print(v_L*tau_ph)"
   ]
  },
  {
   "cell_type": "code",
   "execution_count": 6,
   "metadata": {},
   "outputs": [
    {
     "name": "stdout",
     "output_type": "stream",
     "text": [
      "0.012934777868070773 = kl >> 1 ?\n",
      "0.0008738587064492905 = alpha (/um)\n",
      "0.2797921170798572 = tau_ph-e (us)\n",
      "1560130.1712411863 = D (um2/us)\n",
      "2.300514173734026e-10 =tau_elastic vs tau_e-e= 3.856294505883355e-06\n"
     ]
    }
   ],
   "source": [
    "#bTa phonon times\n",
    "nue = 30.3e9 #eV-1 um-3\n",
    "D=50 #um2 us-1\n",
    "T_D = 221 #K\n",
    "Tc = 0.87 #K\n",
    "Delta = 1.768*consts.k_B*Tc #eV\n",
    "omega_D = consts.k_B*T_D/consts.hbar #in MHz rad\n",
    "\n",
    "# energy per particle, consts.k_B*T_D (Debye), 3*Delta (E2)\n",
    "E=2*Delta\n",
    "\n",
    "omega = E/consts.hbar #rad/us = MHz rad\n",
    "f = omega/(2*np.pi) # MHz\n",
    "T = 0.2 #K\n",
    "\n",
    "def calcN():\n",
    "    rho_m = 17.1 #g cm-3\n",
    "    Z = 2 #valence electrons per atom\n",
    "    m_a = 180.94788 #u\n",
    "    N_A = 6.022e23 #u/g\n",
    "    return N_A * Z * rho_m / m_a * 1e-12 # electrons um-3\n",
    "N=calcN()\n",
    "\n",
    "rho_m = 17.1*5.61e32/consts.c**2 *1e-12#eV c-2 um-3\n",
    "\n",
    "v_L = 4.09e3 #um/us\n",
    "\n",
    "p_fermi = np.sqrt((consts.hbar)**2*(3*np.pi**2*N)**(2/3))\n",
    "k_fermi = p_fermi/consts.hbar\n",
    "\n",
    "mstar = 2*consts.hbar**2*nue*np.pi**2/k_fermi # from suppl\n",
    "\n",
    "tau_elastic = nue*D*mstar/N # <= Einstein relation (sigma = e^2 N(0) D) and drude effective mass, tau elastic time\n",
    "v_fermi = p_fermi/mstar\n",
    "\n",
    "l=v_fermi*tau_elastic\n",
    "k=omega/v_L\n",
    "print(k*l, '= kl >> 1 ?')\n",
    "\n",
    "alpha_L = N*mstar/(rho_m*v_L*tau_elastic) * (1/3 * (k**2*l**2*np.arctan(k*l)/(k*l-np.arctan(k*l))) - 1)\n",
    "print(alpha_L, '= alpha (/um)')\n",
    "\n",
    "# alpha_corr = alpha_L * 2/(np.exp(Delta/(consts.k_B*T))+1)\n",
    "# print(alpha_corr) # nvt omdat op hoge energieën / lage temperaturen attenuation kan door cooper paren te breken, wat ongv gelijk is aan de normal electron density.\n",
    "\n",
    "tau_ph = 1/(v_L*alpha_L)\n",
    "print(tau_ph, '= tau_ph-e (us)')\n",
    "\n",
    "D_ph = v_L**2*tau_ph/3\n",
    "print(D_ph, '= D (um2/us)')\n",
    "\n",
    "tau_ph*v_L\n",
    "\n",
    "# check tau_ee vs tau_F\n",
    "epsilonF = (consts.hbar)**2/(2*mstar)*(3*np.pi**2*N)**(2/3)\n",
    "rs = 1.2947e-4\n",
    "tau_e_e = 1/((0.58**2 / (consts.hbar*epsilonF))*rs**0.5 / 7.96)\n",
    "print(tau_elastic, '=tau_elastic vs tau_e-e=', tau_e_e)"
   ]
  },
  {
   "cell_type": "code",
   "execution_count": 7,
   "metadata": {},
   "outputs": [
    {
     "name": "stdout",
     "output_type": "stream",
     "text": [
      "tau1 =  0.4745376414608857 ps\n",
      "tI =  15.524206835736628 ps\n",
      "tII =  1.2563689598573353 ns\n"
     ]
    }
   ],
   "source": [
    "#Al, put everything in eV, us and K\n",
    "nue = 17.2e9 #eV-1 um-3\n",
    "OmegaD = 36.9e-3 #eV\n",
    "tau0 = 0.11 #us\n",
    "Tc = 1.19 #K\n",
    "c = 6420 #um/us\n",
    "#Delta = 1.768*consts.k_B*Tc #eV\n",
    "Delta = 0.17e-3#eV\n",
    "E1 = 67*OmegaD\n",
    "\n",
    "lambda0= (1/(OmegaD*tau0))*(OmegaD/(consts.k_B*Tc))**3 #eV-1 us-1\n",
    "tau1 = (3/(lambda0*OmegaD))*(E1/OmegaD)\n",
    "print('tau1 = ',tau1*1e6,'ps')\n",
    "\n",
    "\n",
    "nuph = 3*OmegaD**2/(2*np.pi**2*c**3)/consts.hbar**3\n",
    "lambda1 = (lambda0*nue/(2*nuph)) #eV-1 us-1\n",
    "Omega1 = OmegaD*np.sqrt(3*lambda1/lambda0) #eV\n",
    "t=1/(lambda1*Omega1) #us\n",
    "tI = 2*t\n",
    "print('tI = ',tI*1e6,'ps')\n",
    "\n",
    "omega = 4.5*Delta\n",
    "taus = tau0/((Delta/(consts.k_B*Tc))**3*(1/3*((omega/Delta)**2-1)**(3/2)+5/2*((omega/Delta)**2-1)**(1/2)-Delta/(2*omega)*(1+4*(omega/Delta)**2)*np.log(omega/Delta+((omega/Delta)**2-1)**(1/2))))\n",
    "print('tII = ', taus*1e3,'ns')"
   ]
  },
  {
   "cell_type": "code",
   "execution_count": 12,
   "metadata": {},
   "outputs": [
    {
     "name": "stdout",
     "output_type": "stream",
     "text": [
      "2.7539214220494648\n",
      "0.0006644906629659631\n",
      "tau1 =  0.8352121409468417 ps\n",
      "tI =  2426.2713984132456 ps\n",
      "tII =  1.4123903146888779 ns\n"
     ]
    }
   ],
   "source": [
    "#bTa, put everything in eV, us and K\n",
    "nue = 30.3e9 #eV-1 um-3\n",
    "TD = 221 # debye temp in K\n",
    "OmegaD = consts.k_B*TD\n",
    "tau0=0.150 #us\n",
    "Tc = 0.87 #K\n",
    "c = 1730 #um/us\n",
    "Delta = 1.768*consts.k_B*Tc #eV\n",
    "rs = 1.2947e-4 #um # based on n_e => spherical volume => radius\n",
    "rs_au = rs/consts.length_au\n",
    "n = 1.1e11 # um-3\n",
    "D=50 #um2 us-1\n",
    "\n",
    "omega = 4.5*Delta\n",
    "taus = tau0/((Delta/(consts.k_B*Tc))**3*(1/3*((omega/Delta)**2-1)**(3/2)+5/2*((omega/Delta)**2-1)**(1/2)-Delta/(2*omega)*(1+4*(omega/Delta)**2)*np.log(omega/Delta+((omega/Delta)**2-1)**(1/2))))\n",
    "tII = taus\n",
    "\n",
    "mstar = 2*consts.hbar**2*nue*np.pi**2/k_fermi # from suppl\n",
    "epsilonF = (consts.hbar)**2/(2*mstar)*(3*np.pi**2*n)**(2/3)\n",
    "print(epsilonF)\n",
    "\n",
    "lambda0= (1/(OmegaD*tau0))*(OmegaD/(consts.k_B*Tc))**3\n",
    "lambda_au = (1/(OmegaD*tau0))*(OmegaD/(consts.k_B*Tc))**3 * consts.energy_au*consts.time_au\n",
    "E1 = 2.82*OmegaD*rs_au**(-1/4)*(lambda_au/3 * epsilonF/OmegaD)**(1/2)\n",
    "\n",
    "tau1 = (3/(lambda0*OmegaD))*(E1/OmegaD)\n",
    "\n",
    "nuph = 3*OmegaD**2/(2*np.pi**2*c**3)/(consts.h/(2*np.pi))**3\n",
    "lambda1 = (lambda0*nue/(2*nuph)) #eV-1 us-1\n",
    "Omega1 = OmegaD*np.sqrt(3*lambda1/lambda0) #eV\n",
    "print(Omega1)\n",
    "Omega1 = 8.83e-4\n",
    "Omega1 = 4.25e-4\n",
    "Omega1 = 3.54e-4\n",
    "t=1/(lambda1*Omega1) #us\n",
    "tI = 2*t\n",
    "\n",
    "print('tau1 = ',tau1*1e6,'ps')\n",
    "print('tI = ',tI*1e6,'ps')\n",
    "print('tII = ', tII*1e3,'ns')"
   ]
  },
  {
   "cell_type": "code",
   "execution_count": 13,
   "metadata": {},
   "outputs": [
    {
     "data": {
      "text/plain": [
       "0.000654"
      ]
     },
     "execution_count": 13,
     "metadata": {},
     "output_type": "execute_result"
    }
   ],
   "source": [
    "(8.83e-4 + 4.25e-4)/2"
   ]
  },
  {
   "cell_type": "code",
   "execution_count": null,
   "metadata": {},
   "outputs": [],
   "source": []
  }
 ],
 "metadata": {
  "kernelspec": {
   "display_name": "MTPenv1",
   "language": "python",
   "name": "python3"
  },
  "language_info": {
   "codemirror_mode": {
    "name": "ipython",
    "version": 3
   },
   "file_extension": ".py",
   "mimetype": "text/x-python",
   "name": "python",
   "nbconvert_exporter": "python",
   "pygments_lexer": "ipython3",
   "version": "3.12.4"
  }
 },
 "nbformat": 4,
 "nbformat_minor": 2
}
