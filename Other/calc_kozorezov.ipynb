{
 "cells": [
  {
   "cell_type": "code",
   "execution_count": 1,
   "metadata": {},
   "outputs": [],
   "source": [
    "import numpy as np\n",
    "from scipy.optimize import curve_fit\n",
    "from tqdm import tqdm\n",
    "import os\n",
    "import re\n",
    "import matplotlib.pyplot as plt\n",
    "plt.rcParams.update({\n",
    "    \"text.usetex\": True,\n",
    "    \"font.family\": \"Computer Modern\",\n",
    "    \"figure.dpi\": 100,\n",
    "})\n",
    "\n",
    "class fixed_values:\n",
    "  def __init__(self):\n",
    "    self.h=4.135667e-9 #eV us\n",
    "    self.hbar=self.h/(2*np.pi) #eV us rad-1\n",
    "    self.c=299792458 #um/us\n",
    "    self.k_B=8.617343e-5 #eV/K\n",
    "    self.eta_pb_max=0.59\n",
    "    self.energy_au=27.211386 #eV\n",
    "    self.time_au=2.418884e-11 #us\n",
    "    self.length_au=5.291772e-5 #um\n",
    "consts = fixed_values()"
   ]
  },
  {
   "cell_type": "code",
   "execution_count": 2,
   "metadata": {},
   "outputs": [
    {
     "name": "stdout",
     "output_type": "stream",
     "text": [
      "tau1 =  0.4745376414608857 ps\n",
      "tI =  15.524206835736628 ps\n",
      "tII =  1.2563689598573353 ns\n"
     ]
    }
   ],
   "source": [
    "#Al, put everything in eV, us and K\n",
    "nue = 17.2e9 #eV-1 um-3\n",
    "OmegaD = 36.9e-3 #eV\n",
    "tau0 = 0.11 #us\n",
    "Tc = 1.19 #K\n",
    "c = 6420 #um/us\n",
    "#Delta = 1.768*consts.k_B*Tc #eV\n",
    "Delta = 0.17e-3#eV\n",
    "E1 = 67*OmegaD\n",
    "\n",
    "lambda0= (1/(OmegaD*tau0))*(OmegaD/(consts.k_B*Tc))**3 #eV-1 us-1\n",
    "tau1 = (3/(lambda0*OmegaD))*(E1/OmegaD)\n",
    "print('tau1 = ',tau1*1e6,'ps')\n",
    "\n",
    "\n",
    "nuph = 3*OmegaD**2/(2*np.pi**2*c**3)/consts.hbar**3\n",
    "lambda1 = (lambda0*nue/(2*nuph)) #eV-1 us-1\n",
    "Omega1 = OmegaD*np.sqrt(3*lambda1/lambda0) #eV\n",
    "t=1/(lambda1*Omega1) #us\n",
    "tI = 2*t\n",
    "print('tI = ',tI*1e6,'ps')\n",
    "\n",
    "omega = 4.5*Delta\n",
    "taus = tau0/((Delta/(consts.k_B*Tc))**3*(1/3*((omega/Delta)**2-1)**(3/2)+5/2*((omega/Delta)**2-1)**(1/2)-Delta/(2*omega)*(1+4*(omega/Delta)**2)*np.log(omega/Delta+((omega/Delta)**2-1)**(1/2))))\n",
    "print('tII = ', taus*1e3,'ns')"
   ]
  },
  {
   "cell_type": "code",
   "execution_count": 3,
   "metadata": {},
   "outputs": [
    {
     "name": "stdout",
     "output_type": "stream",
     "text": [
      "[1.39239885e-06 6.96199423e-07 4.64132948e-07 3.48099711e-07\n",
      " 2.78479769e-07 2.32066474e-07 1.98914121e-07 1.74049856e-07\n",
      " 1.54710983e-07 1.39239885e-07 1.26581713e-07 1.16033237e-07\n",
      " 1.07107603e-07 9.94570604e-08 9.28265897e-08 8.70249278e-08\n",
      " 8.19058144e-08 7.73554914e-08 7.32841498e-08]\n",
      "tau1 =  [0.00034288 0.00034288 0.00034288 0.00034288 0.00034288 0.00034288\n",
      " 0.00034288 0.00034288 0.00034288 0.00034288 0.00034288 0.00034288\n",
      " 0.00034288 0.00034288 0.00034288 0.00034288 0.00034288 0.00034288\n",
      " 0.00034288] ps\n",
      "tI =  [ 430.85635505  861.71271011 1292.56906516 1723.42542021 2154.28177527\n",
      " 2585.13813032 3015.99448538 3446.85084043 3877.70719548 4308.56355054\n",
      " 4739.41990559 5170.27626064 5601.1326157  6031.98897075 6462.84532581\n",
      " 6893.70168086 7324.55803591 7755.41439097 8186.27074602] ps\n",
      "tII =  [0.47079677 0.94159354 1.41239031 1.88318709 2.35398386 2.82478063\n",
      " 3.2955774  3.76637417 4.23717094 4.70796772 5.17876449 5.64956126\n",
      " 6.12035803 6.5911548  7.06195157 7.53274835 8.00354512 8.47434189\n",
      " 8.94513866] ns\n"
     ]
    }
   ],
   "source": [
    "#bTa, put everything in eV, us and K\n",
    "nue = 30.3e9 #eV-1 um-3\n",
    "TD = 221\n",
    "OmegaD = consts.k_B*TD\n",
    "tau0=0.150 #us\n",
    "tau0 = np.arange(0,1,0.05)[1:] #us\n",
    "Tc = 0.87 #K\n",
    "c = 1730 #um/us\n",
    "Delta = 1.768*consts.k_B*Tc #eV\n",
    "rs = 1.2947e-4 #um # based on n_e => spherical volume => radius\n",
    "rs_au = rs/consts.length_au\n",
    "n = 1.1e11 # um-3\n",
    "me = 511000/299792458**2 #eV/c2\n",
    "D=50 #um2 us-1\n",
    "\n",
    "omega = 4.5*Delta\n",
    "taus = tau0/((Delta/(consts.k_B*Tc))**3*(1/3*((omega/Delta)**2-1)**(3/2)+5/2*((omega/Delta)**2-1)**(1/2)-Delta/(2*omega)*(1+4*(omega/Delta)**2)*np.log(omega/Delta+((omega/Delta)**2-1)**(1/2))))\n",
    "tII = taus\n",
    "\n",
    "mstar = n*taus/nue/D # <= Einstein relation (sigma = e^2 N(0) D) and drude effective mass, taus as scattering time\n",
    "epsilonF = (consts.hbar)**2/(2*mstar)*(3*np.pi**2*n)**(2/3)\n",
    "print(epsilonF)\n",
    "\n",
    "lambda0= (1/(OmegaD*tau0))*(OmegaD/(consts.k_B*Tc))**3\n",
    "lambda_au = (1/(OmegaD*tau0))*(OmegaD/(consts.k_B*Tc))**3 * consts.energy_au*consts.time_au\n",
    "E1 = 2.82*OmegaD*rs_au**(-1/4)*(lambda_au/3 * epsilonF/OmegaD)**(1/2)\n",
    "\n",
    "tau1 = (3/(lambda0*OmegaD))*(E1/OmegaD)\n",
    "\n",
    "nuph = 3*OmegaD**2/(2*np.pi**2*c**3)/(consts.h/(2*np.pi))**3\n",
    "lambda1 = (lambda0*nue/(2*nuph)) #eV-1 us-1\n",
    "Omega1 = OmegaD*np.sqrt(3*lambda1/lambda0) #eV\n",
    "t=1/(lambda1*Omega1) #us\n",
    "tI = 2*t\n",
    "\n",
    "print('tau1 = ',tau1*1e6,'ps')\n",
    "print('tI = ',tI*1e6,'ps')\n",
    "print('tII = ', tII*1e3,'ns')"
   ]
  },
  {
   "cell_type": "code",
   "execution_count": 4,
   "metadata": {},
   "outputs": [
    {
     "name": "stdout",
     "output_type": "stream",
     "text": [
      "6.5821186213224e-10\n",
      "6.582118460320296e-10\n"
     ]
    }
   ],
   "source": [
    "print(consts.energy_au*consts.time_au)\n",
    "print(consts.hbar)"
   ]
  },
  {
   "cell_type": "code",
   "execution_count": 14,
   "metadata": {},
   "outputs": [
    {
     "data": {
      "text/plain": [
       "<matplotlib.legend.Legend at 0x7fc666b7ba10>"
      ]
     },
     "execution_count": 14,
     "metadata": {},
     "output_type": "execute_result"
    },
    {
     "data": {
      "image/png": "[encoded data removed]",
      "text/plain": [
       "<Figure size 640x480 with 1 Axes>"
      ]
     },
     "metadata": {},
     "output_type": "display_data"
    }
   ],
   "source": [
    "plt.plot(tau0,tau1,ls=' ',marker='.',label=r'$\\tau_1$')\n",
    "plt.plot(tau0,tI,ls=' ',marker='.',label=r'$t_I$')\n",
    "plt.plot(tau0,tII,ls=' ',marker='.',label=r'$t_{II}$')\n",
    "i=2\n",
    "plt.scatter(tau0[i],tau1[i]+tI[i]+taus[i],c='r',label=r'sum for $\\tau_0=0.150\\mu m$')\n",
    "plt.xlabel(r'$\\tau_0\\ (\\mu s)$')\n",
    "plt.ylabel(r'decay time $(\\mu s)$')\n",
    "plt.legend()"
   ]
  },
  {
   "cell_type": "code",
   "execution_count": 6,
   "metadata": {},
   "outputs": [
    {
     "data": {
      "text/plain": [
       "30.00329385121715"
      ]
     },
     "execution_count": 6,
     "metadata": {},
     "output_type": "execute_result"
    }
   ],
   "source": [
    "\n",
    "50*np.sqrt(2*consts.k_B*Tc/(np.pi*Delta))"
   ]
  },
  {
   "cell_type": "code",
   "execution_count": null,
   "metadata": {},
   "outputs": [],
   "source": []
  }
 ],
 "metadata": {
  "kernelspec": {
   "display_name": "MTPenv1",
   "language": "python",
   "name": "python3"
  },
  "language_info": {
   "codemirror_mode": {
    "name": "ipython",
    "version": 3
   },
   "file_extension": ".py",
   "mimetype": "text/x-python",
   "name": "python",
   "nbconvert_exporter": "python",
   "pygments_lexer": "ipython3",
   "version": "3.11.8"
  }
 },
 "nbformat": 4,
 "nbformat_minor": 2
}
