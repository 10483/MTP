{
 "cells": [
  {
   "cell_type": "code",
   "execution_count": 1,
   "metadata": {},
   "outputs": [],
   "source": [
    "import os\n",
    "import re\n",
    "import numpy as np\n",
    "import matplotlib.pyplot as plt\n",
    "from FVSimulation_phase_density.Finite_volume_method_1D import *\n",
    "\n",
    "plt.rcParams.update({\n",
    "    \"text.usetex\": True,\n",
    "    \"font.family\": \"Computer Modern\",\n",
    "    \"figure.dpi\": 100,\n",
    "})"
   ]
  },
  {
   "cell_type": "code",
   "execution_count": 2,
   "metadata": {},
   "outputs": [],
   "source": [
    "def getnamelist(path, regex=r'.*\\.csv'):\n",
    "    filenames = os.listdir(path)\n",
    "    pattern = re.compile(regex)\n",
    "    return [filename for filename in filenames if pattern.match(filename)]"
   ]
  },
  {
   "cell_type": "code",
   "execution_count": 3,
   "metadata": {},
   "outputs": [],
   "source": [
    "path_list = [['Al_LT165chip7/',False,1,[402,673,986,1545],310,500],\n",
    "             ['Al_LT165chip7_run2/','Fsweeps/FFT210/Power/',1,[673],310,500],\n",
    "             ['bTa_LT278W2chip5/',False,1,[402,673,986,1545],90,100],\n",
    "             ['bTa_LT342Chip1/','6KIDs_2Pread_673nm_160nW_31dB/FFT/Power/',1,[673],90,100],\n",
    "             ['bTa_LT342Chip1_4Msample/','6KIDs_2Pread_673nm_160nW_31dB_4Msample/FFT/Power/',4,[673],90,100]]"
   ]
  },
  {
   "cell_type": "code",
   "execution_count": 4,
   "metadata": {},
   "outputs": [
    {
     "name": "stdout",
     "output_type": "stream",
     "text": [
      "Readout power not found, instead taking resonator data at closest readout power available.\n",
      "path:  ../DataKian/bTa_LT278W2chip5/S21/2D/KID7_109dBm_Tdep.csv\n",
      "Readout power not found, instead taking resonator data at closest readout power available.\n",
      "path:  ../DataKian/bTa_LT278W2chip5/S21/2D/KID5_103dBm_Tdep.csv\n",
      "Readout power not found, instead taking resonator data at closest readout power available.\n",
      "path:  ../DataKian/bTa_LT278W2chip5/S21/2D/KID4_104dBm_Tdep.csv\n",
      "Readout power not found, instead taking resonator data at closest readout power available.\n",
      "path:  ../DataKian/bTa_LT278W2chip5/S21/2D/KID7_109dBm_Tdep.csv\n",
      "Readout power not found, instead taking resonator data at closest readout power available.\n",
      "path:  ../DataKian/bTa_LT278W2chip5/S21/2D/KID7_109dBm_Tdep.csv\n",
      "Readout power not found, instead taking resonator data at closest readout power available.\n",
      "path:  ../DataKian/bTa_LT278W2chip5/S21/2D/KID4_104dBm_Tdep.csv\n",
      "Readout power not found, instead taking resonator data at closest readout power available.\n",
      "path:  ../DataKian/bTa_LT278W2chip5/S21/2D/KID5_103dBm_Tdep.csv\n",
      "Readout power not found, instead taking resonator data at closest readout power available.\n",
      "path:  ../DataKian/bTa_LT278W2chip5/S21/2D/KID7_109dBm_Tdep.csv\n",
      "Readout power not found, instead taking resonator data at closest readout power available.\n",
      "path:  ../DataKian/bTa_LT278W2chip5/S21/2D/KID7_109dBm_Tdep.csv\n",
      "Readout power not found, instead taking resonator data at closest readout power available.\n",
      "path:  ../DataKian/bTa_LT278W2chip5/S21/2D/KID4_104dBm_Tdep.csv\n",
      "Readout power not found, instead taking resonator data at closest readout power available.\n",
      "path:  ../DataKian/bTa_LT278W2chip5/S21/2D/KID5_103dBm_Tdep.csv\n",
      "Readout power not found, instead taking resonator data at closest readout power available.\n",
      "path:  ../DataKian/bTa_LT278W2chip5/S21/2D/KID7_109dBm_Tdep.csv\n",
      "Readout power not found, instead taking resonator data at closest readout power available.\n",
      "path:  ../DataKian/bTa_LT278W2chip5/S21/2D/KID7_109dBm_Tdep.csv\n",
      "Readout power not found, instead taking resonator data at closest readout power available.\n",
      "path:  ../DataKian/bTa_LT278W2chip5/S21/2D/KID5_103dBm_Tdep.csv\n",
      "Readout power not found, instead taking resonator data at closest readout power available.\n",
      "path:  ../DataKian/bTa_LT278W2chip5/S21/2D/KID4_104dBm_Tdep.csv\n",
      "Readout power not found, instead taking resonator data at closest readout power available.\n",
      "path:  ../DataKian/bTa_LT278W2chip5/S21/2D/KID7_109dBm_Tdep.csv\n",
      "Readout power not found, instead taking resonator data at closest readout power available.\n",
      "path:  ../DataKian/bTa_LT278W2chip5/S21/2D/KID7_109dBm_Tdep.csv\n",
      "Readout power not found, instead taking resonator data at closest readout power available.\n",
      "path:  ../DataKian/bTa_LT278W2chip5/S21/2D/KID5_103dBm_Tdep.csv\n",
      "Readout power not found, instead taking resonator data at closest readout power available.\n",
      "path:  ../DataKian/bTa_LT278W2chip5/S21/2D/KID4_104dBm_Tdep.csv\n",
      "Readout power not found, instead taking resonator data at closest readout power available.\n",
      "path:  ../DataKian/bTa_LT278W2chip5/S21/2D/KID7_109dBm_Tdep.csv\n"
     ]
    }
   ],
   "source": [
    "pref = '../DataKian/'\n",
    "\n",
    "for paths in path_list:\n",
    "    for lamnm in paths[3]:\n",
    "        namelist = getnamelist(pref+paths[0]+str(lamnm)+'nm/',regex=r'.*_avgpulse_ampphase.csv')\n",
    "        for name in namelist:\n",
    "            Data = KID_data(pref+paths[0],\n",
    "                            lamnm,\n",
    "                            name,\n",
    "                            length=paths[4],\n",
    "                            FFT_power_path=paths[1],\n",
    "                            samplefreq_in_MHz=paths[2])\n",
    "            startind = paths[-1]*Data.samplefreq_in_MHz-10*Data.samplefreq_in_MHz\n",
    "            stopind = startind+210*Data.samplefreq_in_MHz\n",
    "            maxphase = np.max(Data.phase)\n",
    "            plt.figure()\n",
    "            plt.semilogy(Data.t_full[startind:stopind],Data.phase[startind:stopind])\n",
    "            plt.ylim(maxphase/1000,maxphase*1.5)\n",
    "            plt.title(f'{paths[0][:-1]}_KID{Data.KIDno}_{lamnm}nm_{Data.temp_in_mK}mK_-{Data.readout_power}dBm_{Data.samplefreq_in_MHz}MHz')\n",
    "            plt.xlabel(r't $\\mu s$')\n",
    "            plt.ylabel(r'$\\theta$ rad')\n",
    "            plt.savefig(f'./all_pulses/{paths[0][:-1]}_KID{Data.KIDno}_{lamnm}nm_{Data.temp_in_mK}mK_-{Data.readout_power}dBm_{Data.samplefreq_in_MHz}MHz.png')\n",
    "            plt.close()"
   ]
  },
  {
   "cell_type": "code",
   "execution_count": null,
   "metadata": {},
   "outputs": [],
   "source": []
  }
 ],
 "metadata": {
  "kernelspec": {
   "display_name": "MTPenv1",
   "language": "python",
   "name": "python3"
  },
  "language_info": {
   "codemirror_mode": {
    "name": "ipython",
    "version": 3
   },
   "file_extension": ".py",
   "mimetype": "text/x-python",
   "name": "python",
   "nbconvert_exporter": "python",
   "pygments_lexer": "ipython3",
   "version": "3.11.8"
  }
 },
 "nbformat": 4,
 "nbformat_minor": 2
}
