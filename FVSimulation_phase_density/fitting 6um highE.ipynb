{
 "cells": [
  {
   "cell_type": "code",
   "execution_count": 1,
   "metadata": {},
   "outputs": [],
   "source": [
    "import numpy as np\n",
    "import matplotlib.pyplot as plt\n",
    "#%matplotlib widget\n",
    "from joblib import Parallel, delayed\n",
    "from scipy.optimize import curve_fit\n",
    "plt.rcParams.update({\n",
    "    \"text.usetex\": True,\n",
    "    \"font.family\": \"Computer Modern\",\n",
    "    \"figure.dpi\": 300\n",
    "})\n",
    "\n",
    "\n",
    "\n",
    "from Finite_volume_method_1D import *"
   ]
  },
  {
   "cell_type": "code",
   "execution_count": null,
   "metadata": {},
   "outputs": [],
   "source": [
    "chippath = '../../DataKian/bTa_LT354chip3/'\n",
    "filename = 'KID14_92dBm__TmK20_avgpulse_ampphase.csv' # try 92dBm and 96 of this KID, both have good pulses at all 3 wavelengths\n",
    "length = 48\n",
    "simtime = 100\n",
    "dtinit=0.001\n",
    "dxfrac=1/5\n",
    "\n",
    "lambdasinnm = [402]\n",
    "\n",
    "KIDdict = {}\n",
    "for lambdanm in lambdasinnm:\n",
    "    KIDdict[lambdanm] = KID_data(chippath,lambdanm,filename,length)\n",
    "    KIDdict[lambdanm].fit_tail(showplots=True) # just to plot full pulses\n",
    "for lambdanm in lambdasinnm:\n",
    "    KIDdict[lambdanm] = KID_data(chippath,lambdanm,filename,length)\n",
    "    KIDdict[lambdanm].fit_tail(start=175,end=300,showplots=True) # actually calculate tauqp*"
   ]
  },
  {
   "cell_type": "code",
   "execution_count": null,
   "metadata": {},
   "outputs": [],
   "source": [
    "Ls=[]\n",
    "for lambdanm in lambdasinnm:\n",
    "    print(KIDdict[lambdanm].tauqpstar,KIDdict[lambdanm].tauqpstarstd)\n",
    "    print(KIDdict[lambdanm].L)\n",
    "    Ls.append(KIDdict[lambdanm].L)\n",
    "L=np.mean(Ls) # use the same linear decay rate for all wavelengths\n",
    "\n",
    "KIDdict[lambdanm].F0"
   ]
  },
  {
   "cell_type": "code",
   "execution_count": 4,
   "metadata": {},
   "outputs": [],
   "source": [
    "def prep_data(offset):\n",
    "    ylist = []\n",
    "    for lambdanm in lambdasinnm:\n",
    "        xfit = np.arange(offset,offset+simtime-KIDdict[lambdanm].dt/2,KIDdict[lambdanm].dt)\n",
    "        indmin = np.argmax(KIDdict[lambdanm].phase)+offset\n",
    "        indmax = indmin + simtime\n",
    "        ylist.append(KIDdict[lambdanm].phase[indmin:indmax])\n",
    "    yfit = np.array(ylist).ravel()\n",
    "    return xfit, yfit\n",
    "\n",
    "def func_to_parallelize(t,params):\n",
    "     SIM = KID_sim(params,dtinit,dxfrac,simtime_approx=simtime,D_const=False,approx2D=False,ringingdtinterp=0.005)\n",
    "     return np.interp(t,SIM.t_axis_interp,SIM.phaseintime)\n",
    "\n",
    "def fitfunc(t,eta,sigma,tau,Q0):\n",
    "    print('eta (-):\\t',eta)\n",
    "    print('sigma (um):\\t',sigma)\n",
    "    print('tau (us):\\t',tau)\n",
    "    print('Q0 (um-1):\\t',Q0)\n",
    "    datalist = Parallel(n_jobs=len(lambdasinnm))(delayed(func_to_parallelize)(t,KID_params(eta_pb=eta,sigma_IC=sigma,trickle_time=tau,Q0=Q0,KID=KIDdict[lambdanm],L=L)) for lambdanm in lambdasinnm)\n",
    "    return np.concatenate(datalist)\n",
    "\n",
    "def par_func_plot(params):\n",
    "     SIM = KID_sim(params,dtinit,dxfrac,simtime_approx=simtime,D_const=False,approx2D=False,ringingdtinterp=0.005)\n",
    "     return SIM\n",
    "\n",
    "def plotsim(eta,sigma,tau,Q0):\n",
    "    datalist = Parallel(n_jobs=4)(delayed(par_func_plot)(KID_params(eta_pb=eta,sigma_IC=sigma,trickle_time=tau,Q0=Q0,KID=KIDdict[lambdanm],L=L)) for lambdanm in lambdasinnm)\n",
    "    plotdata = {}\n",
    "    for obj,lambdanm in zip(datalist,lambdasinnm):\n",
    "         plotdata[lambdanm]=obj\n",
    "    return plotdata"
   ]
  },
  {
   "cell_type": "code",
   "execution_count": null,
   "metadata": {},
   "outputs": [],
   "source": [
    "'''xfit,yfit=prep_data(-5) #e.g. -5 means take 5 data points before the max into account for the data\n",
    "popt, pcov = curve_fit(fitfunc,xfit,yfit,p0=[0.5,5,0.2,0.5],bounds=[[0.01,0.2,0.01,0.1],[1,length/6,10,np.inf]]) #with tau\n",
    "print('\\nDone!')'''"
   ]
  },
  {
   "cell_type": "code",
   "execution_count": null,
   "metadata": {},
   "outputs": [],
   "source": [
    "'''# Display parameters, standard deviation, and correlation coefficient\n",
    "parameters = ['eta','sigma','tau','Q0']\n",
    "print(\"Parameters:\")\n",
    "for name, param, std in zip(parameters,popt,np.sqrt(np.diag(pcov))):\n",
    "    print(f\"{name}:\\t{param:.10f}\\t+/-\\t{std:.10f}\")\n",
    "\n",
    "print(\"\\nCorrelation Coefficients:\")\n",
    "for i in range(len(popt)):\n",
    "    for j in range(i+1, len(popt)):\n",
    "        print(f\"{parameters[i]} vs {parameters[j]}: {pcov[i,j]/np.prod(np.sqrt(pcov[i,i]*pcov[j,j])):.10f}\")'''"
   ]
  },
  {
   "cell_type": "code",
   "execution_count": null,
   "metadata": {},
   "outputs": [],
   "source": [
    "'''\n",
    "Parameters:\n",
    "eta:\t0.7257445979\t+/-\t0.2746370813\n",
    "sigma:\t6.3449865843\t+/-\t6.7939180085\n",
    "tau:\t0.1631643010\t+/-\t0.2182604162\n",
    "Q0:\t6.7204440503\t+/-\t0.8052132810\n",
    "\n",
    "Correlation Coefficients:\n",
    "eta vs sigma: -0.9267442617\n",
    "eta vs tau: 0.8996959508\n",
    "eta vs Q0: 0.5521362490\n",
    "sigma vs tau: -0.7466205574\n",
    "sigma vs Q0: -0.7458808294\n",
    "tau vs Q0: 0.4482351742\n",
    "'''\n",
    "\n",
    "simdata = plotsim(0.7257445979,6.3449865843,0.1631643010,6.7204440503)"
   ]
  },
  {
   "cell_type": "code",
   "execution_count": null,
   "metadata": {},
   "outputs": [],
   "source": [
    "plt.figure()\n",
    "for lambdanm in lambdasinnm:\n",
    "    phase = KIDdict[lambdanm].phase\n",
    "    t = KIDdict[lambdanm].t_full\n",
    "    t -= t[np.argmax(phase)]\n",
    "    plt.plot(simdata[lambdanm].t_axis_interp,simdata[lambdanm].phaseintime,alpha=0.5)\n",
    "    plt.scatter(t,phase,marker='.',s=10)\n",
    "plt.xlim(10*simdata[lambdanm].t_start,50)\n",
    "plt.xlabel(r'time ($\\mu s$)')\n",
    "plt.ylabel(r'$\\theta$ (rad)')\n",
    "#plt.ylim(1e-3)\n",
    "#plt.semilogy()\n",
    "plt.show()\n",
    "plt.figure()\n",
    "for lambdanm in lambdasinnm:\n",
    "    phase = KIDdict[lambdanm].phase\n",
    "    t = KIDdict[lambdanm].t_full\n",
    "    t -= t[np.argmax(phase)]\n",
    "    plt.plot(simdata[lambdanm].t_axis_interp,simdata[lambdanm].phaseintime*lambdanm,alpha=0.5)\n",
    "    plt.scatter(t,phase*lambdanm,marker='.',s=10)\n",
    "plt.xlim(10*simdata[lambdanm].t_start,50)\n",
    "plt.xlabel(r'time ($\\mu s$)')\n",
    "plt.ylabel(r'$\\theta\\cdot\\lambda_{ph}$ (rad$\\cdot nm$)')\n",
    "#plt.ylim(1e-3)\n",
    "#plt.semilogy()\n",
    "plt.show()"
   ]
  },
  {
   "cell_type": "code",
   "execution_count": null,
   "metadata": {},
   "outputs": [],
   "source": []
  },
  {
   "cell_type": "code",
   "execution_count": null,
   "metadata": {},
   "outputs": [],
   "source": []
  }
 ],
 "metadata": {
  "kernelspec": {
   "display_name": "MTPenv",
   "language": "python",
   "name": "python3"
  },
  "language_info": {
   "codemirror_mode": {
    "name": "ipython",
    "version": 3
   },
   "file_extension": ".py",
   "mimetype": "text/x-python",
   "name": "python",
   "nbconvert_exporter": "python",
   "pygments_lexer": "ipython3",
   "version": "3.12.4"
  }
 },
 "nbformat": 4,
 "nbformat_minor": 2
}
