{
 "cells": [
  {
   "cell_type": "code",
   "execution_count": 1,
   "metadata": {},
   "outputs": [],
   "source": [
    "import numpy as np\n",
    "import matplotlib.pyplot as plt\n",
    "import matplotlib.animation as animation\n",
    "%matplotlib widget\n",
    "from joblib import Parallel, delayed\n",
    "from scipy.optimize import curve_fit\n",
    "plt.rcParams.update({\n",
    "    \"text.usetex\": True,\n",
    "    \"font.family\": \"Computer Modern\",\n",
    "    \"figure.dpi\": 300,\n",
    "})\n",
    "\n",
    "from Finite_volume_method_1D import *"
   ]
  },
  {
   "cell_type": "code",
   "execution_count": null,
   "metadata": {},
   "outputs": [],
   "source": [
    "chippath = '../../DataKian/bTa_LT278W2chip5/'\n",
    "filename = 'KID3_96dBm__TmK20_avgpulse_ampphase.csv'\n",
    "length = 90\n",
    "\n",
    "lambdanm = 402\n",
    "KID402 = KID_data(chippath,lambdanm,filename,length)\n",
    "KID402.fit_tail(start=250,end=-1)"
   ]
  },
  {
   "cell_type": "code",
   "execution_count": null,
   "metadata": {},
   "outputs": [],
   "source": [
    "params = KID_params(eta_pb=0.57,sigma_IC=1,Teff=0.11,KID=KID402,trickle_time=0.03)\n",
    "dtset=0.001\n",
    "dxfrac=1/4\n",
    "simtime=50\n",
    "SIM = KID_sim(params=params,dt_init=dtset,dx_or_fraction=1/8,D_const=False,simtime_approx=simtime)"
   ]
  },
  {
   "cell_type": "code",
   "execution_count": null,
   "metadata": {},
   "outputs": [],
   "source": [
    "params = KID_params(eta_pb=0.57,sigma_IC=1,Teff=0.11,KID=KID402)\n",
    "dtset=0.001\n",
    "dxfrac=1/4\n",
    "simtime=50\n",
    "\n",
    "SIMIC = KID_sim(params=params,dt_init=dtset,dx_or_fraction=1/8,D_const=False,simtime_approx=simtime)"
   ]
  },
  {
   "cell_type": "code",
   "execution_count": null,
   "metadata": {},
   "outputs": [],
   "source": [
    "alpha=0.5\n",
    "plt.close()\n",
    "plt.figure()\n",
    "plt.plot(SIM.t_axis_interp-SIM.t_start,SIM.phaseintime,color='r',alpha=alpha,label=r'Forcing term, $\\tau=1\\mu s$')\n",
    "plt.plot(SIM.t_axis,SIM.Nqpintime*SIM.params.dthetadN,color='r',ls='--',alpha=alpha)\n",
    "plt.plot(SIMIC.t_axis_interp-SIMIC.t_start,SIMIC.phaseintime,color='b',alpha=alpha,label='Initial condition')\n",
    "plt.plot(SIMIC.t_axis,SIMIC.Nqpintime*SIMIC.params.dthetadN,color='b',ls='--',alpha=alpha)\n",
    "plt.semilogy()\n",
    "plt.xlabel(r'time ($\\mu s$)')\n",
    "plt.ylabel(r'phase (rad)')\n",
    "plt.legend()\n",
    "plt.show()"
   ]
  },
  {
   "cell_type": "code",
   "execution_count": null,
   "metadata": {},
   "outputs": [],
   "source": [
    "freq = 20 #hz\n",
    "fig, ax=plt.subplots()\n",
    "ax.axis([-5,5,0,np.max([np.max(Q) for Q in SIM.Qintime])])\n",
    "line, = ax.plot([],[])\n",
    "\n",
    "def animate(i):\n",
    "    xpos = SIM.x_centers_list[i]\n",
    "    xneg = -np.flip(xpos)\n",
    "    x = np.concatenate([xneg,xpos])\n",
    "    Qpos = SIM.Qintime[i]\n",
    "    Qneg = np.flip(Qpos)\n",
    "    Q=np.concatenate([Qneg,Qpos])\n",
    "    line.set_data(x,Q)\n",
    "    ax.set_title(\"time (us): {:.4f}, frame: {}\".format(SIM.t_axis[i],i))\n",
    "\n",
    "ani = animation.FuncAnimation(fig, animate, frames=500, interval=1000/freq, blit=True)\n",
    "\n",
    "ani.save('movie.mp4',fps=freq,dpi=200)"
   ]
  },
  {
   "cell_type": "code",
   "execution_count": null,
   "metadata": {},
   "outputs": [],
   "source": [
    "SIM.trickle_total"
   ]
  },
  {
   "cell_type": "code",
   "execution_count": null,
   "metadata": {},
   "outputs": [],
   "source": [
    "SIM.Nqp_init"
   ]
  },
  {
   "cell_type": "code",
   "execution_count": null,
   "metadata": {},
   "outputs": [],
   "source": [
    "plt.figure()\n",
    "plt.plot(SIM.t_axis)\n",
    "plt.show()\n",
    "\n",
    "plt.figure()\n",
    "plt.plot(SIM.dtlist)\n",
    "plt.show()"
   ]
  },
  {
   "cell_type": "code",
   "execution_count": null,
   "metadata": {},
   "outputs": [],
   "source": []
  }
 ],
 "metadata": {
  "kernelspec": {
   "display_name": "MTPenv1",
   "language": "python",
   "name": "python3"
  },
  "language_info": {
   "codemirror_mode": {
    "name": "ipython",
    "version": 3
   },
   "file_extension": ".py",
   "mimetype": "text/x-python",
   "name": "python",
   "nbconvert_exporter": "python",
   "pygments_lexer": "ipython3",
   "version": "3.12.4"
  }
 },
 "nbformat": 4,
 "nbformat_minor": 2
}
