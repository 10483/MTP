{
 "cells": [
  {
   "cell_type": "code",
   "execution_count": 1,
   "metadata": {},
   "outputs": [],
   "source": [
    "import numpy as np\n",
    "import matplotlib.pyplot as plt\n",
    "#%matplotlib widget\n",
    "from joblib import Parallel, delayed\n",
    "from scipy.optimize import curve_fit\n",
    "plt.rcParams.update({\n",
    "    \"text.usetex\": True,\n",
    "    \"font.family\": \"Computer Modern\",\n",
    "    \"figure.dpi\": 100\n",
    "})\n",
    "\n",
    "\n",
    "\n",
    "from Finite_volume_method_1D import *"
   ]
  },
  {
   "cell_type": "code",
   "execution_count": 2,
   "metadata": {},
   "outputs": [],
   "source": [
    "chippath = '../../DataKian/bTa_LT278W2chip5/'\n",
    "filename = 'KID3_96dBm__TmK20_avgpulse_ampphase.csv'\n",
    "length = 90\n",
    "simtime = 300\n",
    "dtinit=0.001\n",
    "dxfrac=1/4\n",
    "\n",
    "lambdasinnm = [402,673,986,1545]\n",
    "\n",
    "KIDdict = {}\n",
    "for lambdanm in lambdasinnm:\n",
    "    KIDdict[lambdanm] = KID_data(chippath,lambdanm,filename,length)\n",
    "    KIDdict[lambdanm].fit_tail(showplots=False)\n",
    "for lambdanm in lambdasinnm:\n",
    "    KIDdict[lambdanm] = KID_data(chippath,lambdanm,filename,length)\n",
    "    KIDdict[lambdanm].fit_tail(start=200,showplots=False)"
   ]
  },
  {
   "cell_type": "code",
   "execution_count": 3,
   "metadata": {},
   "outputs": [
    {
     "name": "stdout",
     "output_type": "stream",
     "text": [
      "194.88850185176454 2.2767849027049727\n",
      "0.005131139038467322\n",
      "201.89787714954562 3.9613091250212302\n",
      "0.004952999081111193\n",
      "191.8028632586559 3.097737438872922\n",
      "0.005213686506084371\n",
      "190.54199588046978 6.5199494193543215\n",
      "0.0052481868649435\n"
     ]
    }
   ],
   "source": [
    "Ls=[]\n",
    "for lambdanm in lambdasinnm:\n",
    "    print(KIDdict[lambdanm].tauqpstar,KIDdict[lambdanm].tauqpstarstd)\n",
    "    print(KIDdict[lambdanm].L)\n",
    "    Ls.append(KIDdict[lambdanm].L)\n",
    "L=np.mean(Ls) # use the same linear decay rate for all wavelengths"
   ]
  },
  {
   "cell_type": "code",
   "execution_count": 4,
   "metadata": {},
   "outputs": [],
   "source": [
    "def prep_data(neg_offset):\n",
    "    ylist = []\n",
    "    for lambdanm in lambdasinnm:\n",
    "        xfit = np.arange(neg_offset,neg_offset+simtime-KIDdict[lambdanm].dt/2,KIDdict[lambdanm].dt)\n",
    "        indmin = np.argmax(KIDdict[lambdanm].phase)+neg_offset\n",
    "        indmax = indmin + simtime\n",
    "        ylist.append(KIDdict[lambdanm].phase[indmin:indmax])\n",
    "    yfit = np.array(ylist).ravel()\n",
    "    return xfit, yfit\n",
    "\n",
    "def func_to_parallelize(t,params):\n",
    "     SIM = KID_sim(params,dtinit,dxfrac,simtime_approx=simtime,D_const=False)\n",
    "     return np.interp(t,SIM.t_axis_interp,SIM.phaseintime)\n",
    "\n",
    "def fitfunc(t,eta,sigma,tau,Q0):\n",
    "    print('eta (-):\\t',eta)\n",
    "    print('sigma (um):\\t',sigma)\n",
    "    print('tau (us):\\t',tau)\n",
    "    print('Q0 (um-1):\\t',Q0)\n",
    "    datalist = Parallel(n_jobs=len(lambdasinnm))(delayed(func_to_parallelize)(t,KID_params(eta_pb=eta,sigma_IC=sigma,trickle_time=tau,Q0=Q0,KID=KIDdict[lambdanm],L=L)) for lambdanm in lambdasinnm)\n",
    "    return np.concatenate(datalist)\n",
    "\n",
    "def par_func_plot(params):\n",
    "     SIM = KID_sim(params,dtinit,dxfrac,simtime_approx=simtime,D_const=False)\n",
    "     return SIM\n",
    "\n",
    "def plotsim(eta,sigma,tau,Q0):\n",
    "    datalist = Parallel(n_jobs=4)(delayed(par_func_plot)(KID_params(eta_pb=eta,sigma_IC=sigma,trickle_time=tau,Q0=Q0,KID=KIDdict[lambdanm],L=L)) for lambdanm in lambdasinnm)\n",
    "    plotdata = {}\n",
    "    for obj,lambdanm in zip(datalist,lambdasinnm):\n",
    "         plotdata[lambdanm]=obj\n",
    "    return plotdata"
   ]
  },
  {
   "cell_type": "code",
   "execution_count": 5,
   "metadata": {},
   "outputs": [
    {
     "ename": "ValueError",
     "evalue": "operands could not be broadcast together with shapes (3,) (4,) ",
     "output_type": "error",
     "traceback": [
      "\u001b[0;31m---------------------------------------------------------------------------\u001b[0m",
      "\u001b[0;31mValueError\u001b[0m                                Traceback (most recent call last)",
      "Cell \u001b[0;32mIn[5], line 2\u001b[0m\n\u001b[1;32m      1\u001b[0m xfit,yfit\u001b[38;5;241m=\u001b[39mprep_data(\u001b[38;5;241m-\u001b[39m\u001b[38;5;241m3\u001b[39m) \u001b[38;5;66;03m#e.g. -5 means take 5 data points before the max into account for the data\u001b[39;00m\n\u001b[0;32m----> 2\u001b[0m popt, pcov \u001b[38;5;241m=\u001b[39m \u001b[43mcurve_fit\u001b[49m\u001b[43m(\u001b[49m\u001b[43mfitfunc\u001b[49m\u001b[43m,\u001b[49m\u001b[43mxfit\u001b[49m\u001b[43m,\u001b[49m\u001b[43myfit\u001b[49m\u001b[43m,\u001b[49m\u001b[43mp0\u001b[49m\u001b[38;5;241;43m=\u001b[39;49m\u001b[43m[\u001b[49m\u001b[38;5;241;43m0.59\u001b[39;49m\u001b[43m,\u001b[49m\u001b[38;5;241;43m1\u001b[39;49m\u001b[43m,\u001b[49m\u001b[38;5;241;43m1\u001b[39;49m\u001b[43m,\u001b[49m\u001b[38;5;241;43m0.5\u001b[39;49m\u001b[43m]\u001b[49m\u001b[43m,\u001b[49m\u001b[43mbounds\u001b[49m\u001b[38;5;241;43m=\u001b[39;49m\u001b[43m[\u001b[49m\u001b[43m[\u001b[49m\u001b[38;5;241;43m0.01\u001b[39;49m\u001b[43m,\u001b[49m\u001b[38;5;241;43m0.5\u001b[39;49m\u001b[43m,\u001b[49m\u001b[38;5;241;43m0\u001b[39;49m\u001b[43m]\u001b[49m\u001b[43m,\u001b[49m\u001b[43m[\u001b[49m\u001b[38;5;241;43m1\u001b[39;49m\u001b[43m,\u001b[49m\u001b[43mlength\u001b[49m\u001b[38;5;241;43m/\u001b[39;49m\u001b[38;5;241;43m4\u001b[39;49m\u001b[43m,\u001b[49m\u001b[38;5;241;43m10\u001b[39;49m\u001b[43m,\u001b[49m\u001b[43mnp\u001b[49m\u001b[38;5;241;43m.\u001b[39;49m\u001b[43minf\u001b[49m\u001b[43m]\u001b[49m\u001b[43m]\u001b[49m\u001b[43m)\u001b[49m\n\u001b[1;32m      3\u001b[0m \u001b[38;5;28mprint\u001b[39m(\u001b[38;5;124m'\u001b[39m\u001b[38;5;124mDone!\u001b[39m\u001b[38;5;124m'\u001b[39m)\n",
      "File \u001b[0;32m~/miniconda3/envs/MTPenv/lib/python3.12/site-packages/scipy/optimize/_minpack_py.py:916\u001b[0m, in \u001b[0;36mcurve_fit\u001b[0;34m(f, xdata, ydata, p0, sigma, absolute_sigma, check_finite, bounds, method, jac, full_output, nan_policy, **kwargs)\u001b[0m\n\u001b[1;32m    913\u001b[0m \u001b[38;5;28;01mif\u001b[39;00m p0 \u001b[38;5;129;01mis\u001b[39;00m \u001b[38;5;28;01mNone\u001b[39;00m:\n\u001b[1;32m    914\u001b[0m     p0 \u001b[38;5;241m=\u001b[39m _initialize_feasible(lb, ub)\n\u001b[0;32m--> 916\u001b[0m bounded_problem \u001b[38;5;241m=\u001b[39m np\u001b[38;5;241m.\u001b[39many(\u001b[43m(\u001b[49m\u001b[43mlb\u001b[49m\u001b[43m \u001b[49m\u001b[38;5;241;43m>\u001b[39;49m\u001b[43m \u001b[49m\u001b[38;5;241;43m-\u001b[39;49m\u001b[43mnp\u001b[49m\u001b[38;5;241;43m.\u001b[39;49m\u001b[43minf\u001b[49m\u001b[43m)\u001b[49m\u001b[43m \u001b[49m\u001b[38;5;241;43m|\u001b[39;49m\u001b[43m \u001b[49m\u001b[43m(\u001b[49m\u001b[43mub\u001b[49m\u001b[43m \u001b[49m\u001b[38;5;241;43m<\u001b[39;49m\u001b[43m \u001b[49m\u001b[43mnp\u001b[49m\u001b[38;5;241;43m.\u001b[39;49m\u001b[43minf\u001b[49m\u001b[43m)\u001b[49m)\n\u001b[1;32m    917\u001b[0m \u001b[38;5;28;01mif\u001b[39;00m method \u001b[38;5;129;01mis\u001b[39;00m \u001b[38;5;28;01mNone\u001b[39;00m:\n\u001b[1;32m    918\u001b[0m     \u001b[38;5;28;01mif\u001b[39;00m bounded_problem:\n",
      "\u001b[0;31mValueError\u001b[0m: operands could not be broadcast together with shapes (3,) (4,) "
     ]
    }
   ],
   "source": [
    "xfit,yfit=prep_data(-3) #e.g. -5 means take 5 data points before the max into account for the data\n",
    "popt, pcov = curve_fit(fitfunc,xfit,yfit,p0=[0.59,1,1,0.5],bounds=[[0.01,0.5,0.01,0.1],[1,length/4,10,np.inf]])\n",
    "print('Done!')"
   ]
  },
  {
   "cell_type": "code",
   "execution_count": null,
   "metadata": {},
   "outputs": [],
   "source": [
    "# Display parameters, standard deviation, and correlation coefficient\n",
    "parameters = ['eta','sigma','tau','Q0']\n",
    "print(\"Parameters:\")\n",
    "for name, param, std in zip(parameters,popt,np.sqrt(np.diag(pcov))):\n",
    "    print(f\"{name}:\\t{param:.10f}\\t+/-\\t{std:.10f}\")\n",
    "\n",
    "print(\"\\nCorrelation Coefficients:\")\n",
    "for i in range(len(popt)):\n",
    "    for j in range(i+1, len(popt)):\n",
    "        print(f\"{parameters[i]} vs {parameters[j]}: {pcov[i,j]/np.prod(np.sqrt(pcov[i,i]*pcov[j,j])):.10f}\")\n",
    "\n",
    "#Output:\n",
    "'''\n",
    "Parameters:\n",
    "sigma:\t2.6449868182\t+/-\t0.3454672216\n",
    "Q0:\t0.1001772273\t+/-\t0.0080324761\n",
    "dthetadN:\t0.0003159587\t+/-\t0.0000146828\n",
    "\n",
    "Correlation Coefficients:\n",
    "sigma vs Q0: -0.7848166917\n",
    "sigma vs dthetadN: 0.0209269580\n",
    "Q0 vs dthetadN: -0.5672492757\n",
    "'''"
   ]
  },
  {
   "cell_type": "code",
   "execution_count": null,
   "metadata": {},
   "outputs": [],
   "source": [
    "'''\n",
    "Parameters:\n",
    "sigma:\t2.6449868182\t+/-\t0.3454672216\n",
    "Q0:\t0.1001772273\t+/-\t0.0080324761\n",
    "dthetadN:\t0.0003159587\t+/-\t0.0000146828\n",
    "\n",
    "Correlation Coefficients:\n",
    "sigma vs Q0: -0.7848166917\n",
    "sigma vs dthetadN: 0.0209269580\n",
    "Q0 vs dthetadN: -0.5672492757\n",
    "'''"
   ]
  },
  {
   "cell_type": "code",
   "execution_count": null,
   "metadata": {},
   "outputs": [],
   "source": [
    "simdata = plotsim(2.6449868182,0.1001772273,0.0003159587,2.5)\n",
    "lambdasinnm = [402,673,986,1545]\n",
    "plt.figure()\n",
    "for lambdanm in lambdasinnm:\n",
    "    phase = KIDdict[lambdanm].phase\n",
    "    t = KIDdict[lambdanm].t_full\n",
    "    t -= t[np.argmax(phase)]\n",
    "    plt.plot(simdata[lambdanm].t_axis_interp,simdata[lambdanm].phaseintime,alpha=0.5)\n",
    "    plt.scatter(t,phase,marker='.',s=10)\n",
    "plt.xlim(10*simdata[lambdanm].t_start,50)\n",
    "plt.ylim(1e-3)\n",
    "plt.xlabel(r'time ($\\mu s$)')\n",
    "plt.ylabel(r'$\\theta$ (rad)')\n",
    "#plt.semilogy()\n",
    "plt.show()\n",
    "plt.figure()\n",
    "for lambdanm in lambdasinnm:\n",
    "    phase = KIDdict[lambdanm].phase\n",
    "    t = KIDdict[lambdanm].t_full\n",
    "    t -= t[np.argmax(phase)]\n",
    "    plt.plot(simdata[lambdanm].t_axis_interp,simdata[lambdanm].phaseintime*lambdanm,alpha=0.5)\n",
    "    plt.scatter(t,phase*lambdanm,marker='.',s=10)\n",
    "plt.xlim(10*simdata[lambdanm].t_start,50)\n",
    "plt.ylim(1e-3)\n",
    "plt.xlabel(r'time ($\\mu s$)')\n",
    "plt.ylabel(r'$\\theta\\cdot\\lambda_{ph}$ (rad$\\cdot nm$)')\n",
    "#plt.semilogy()\n",
    "plt.show()"
   ]
  },
  {
   "cell_type": "code",
   "execution_count": null,
   "metadata": {},
   "outputs": [],
   "source": [
    "simdata = plotsim(2.6449868182,0.1001772273,0.0003159587,0)\n",
    "lambdasinnm = [402,673,986,1545]\n",
    "plt.figure()\n",
    "for lambdanm in lambdasinnm:\n",
    "    phase = KIDdict[lambdanm].phase\n",
    "    t = KIDdict[lambdanm].t_full\n",
    "    t -= t[np.argmax(phase)]\n",
    "    plt.plot(simdata[lambdanm].t_axis_interp,simdata[lambdanm].phaseintime,alpha=0.5)\n",
    "    plt.scatter(t,phase,marker='.',s=10)\n",
    "plt.xlim(10*simdata[lambdanm].t_start,50)\n",
    "plt.ylim(1e-3)\n",
    "plt.xlabel(r'time ($\\mu s$)')\n",
    "plt.ylabel(r'$\\theta$ (rad)')\n",
    "#plt.semilogy()\n",
    "plt.show()\n",
    "plt.figure()\n",
    "for lambdanm in lambdasinnm:\n",
    "    phase = KIDdict[lambdanm].phase\n",
    "    t = KIDdict[lambdanm].t_full\n",
    "    t -= t[np.argmax(phase)]\n",
    "    plt.plot(simdata[lambdanm].t_axis_interp,simdata[lambdanm].phaseintime*lambdanm,alpha=0.5)\n",
    "    plt.scatter(t,phase*lambdanm,marker='.',s=10)\n",
    "plt.xlim(10*simdata[lambdanm].t_start,50)\n",
    "plt.ylim(1e-3)\n",
    "plt.xlabel(r'time ($\\mu s$)')\n",
    "plt.ylabel(r'$\\theta\\cdot\\lambda_{ph}$ (rad$\\cdot nm$)')\n",
    "#plt.semilogy()\n",
    "plt.show()"
   ]
  },
  {
   "cell_type": "code",
   "execution_count": null,
   "metadata": {},
   "outputs": [],
   "source": []
  },
  {
   "cell_type": "code",
   "execution_count": null,
   "metadata": {},
   "outputs": [],
   "source": []
  }
 ],
 "metadata": {
  "kernelspec": {
   "display_name": "MTPenv1",
   "language": "python",
   "name": "python3"
  },
  "language_info": {
   "codemirror_mode": {
    "name": "ipython",
    "version": 3
   },
   "file_extension": ".py",
   "mimetype": "text/x-python",
   "name": "python",
   "nbconvert_exporter": "python",
   "pygments_lexer": "ipython3",
   "version": "3.12.4"
  }
 },
 "nbformat": 4,
 "nbformat_minor": 2
}
