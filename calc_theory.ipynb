{
 "cells": [
  {
   "cell_type": "code",
   "execution_count": 27,
   "metadata": {},
   "outputs": [],
   "source": [
    "import numpy as np\n",
    "from scipy.integrate import dblquad\n",
    "from scipy.integrate import quad\n",
    "import matplotlib.pyplot as plt\n",
    "plt.rcParams.update({\n",
    "    \"text.usetex\": True,\n",
    "    \"font.family\": \"Computer Modern\",\n",
    "    \"figure.dpi\": 100,\n",
    "})\n",
    "\n",
    "class fixed_values: # constants in my choice of units\n",
    "  def __init__(self):\n",
    "    self.h=4.135667e-9 #eV us\n",
    "    self.hbar=self.h/(2*np.pi) #eV us rad-1\n",
    "    self.c=299792458 #um/us\n",
    "    self.k_B=8.617343e-5 #eV/K\n",
    "    self.eta_pb_max=0.59\n",
    "    self.energy_au=27.211386 #eV\n",
    "    self.time_au=2.418884e-11 #us\n",
    "    self.length_au=5.291772e-5 #um\n",
    "    self.N_A = 6.022e23\n",
    "    self.m_e = 5.68563006e-12 #eV s2 m-2\n",
    "consts = fixed_values()"
   ]
  },
  {
   "cell_type": "code",
   "execution_count": 28,
   "metadata": {},
   "outputs": [],
   "source": [
    "def calc_RS(metal,T):\n",
    "    beta = (2/3 * metal.e_fermi)**2 * metal.nue/(2*metal.rho_m*metal.v_L**2)\n",
    "    tau_epsilon = 1/(np.pi**4*beta/5 * metal.p_fermi*metal.l*T**4/(metal.p_fermi*metal.v_T)**3 * (1+3/2*(metal.v_L/metal.v_T)**5) * consts.k_B**4 / consts.hbar**2)\n",
    "    tau_0 = 4.20*tau_epsilon # kaplan 18\n",
    "    return tau_0\n",
    "\n",
    "def calc_KSK(metal):\n",
    "  qD = metal.E_D/(consts.hbar*metal.v_L)\n",
    "\n",
    "  Phi_L = lambda x : 2/np.pi * ((x*np.arctan(x))/(x-np.arctan(x)) - 3/x)\n",
    "  Phi_T = lambda x : 3/np.pi * (2*x**3 + 3*x - 3*(x**2+1) * np.arctan(x))/x**4\n",
    "  gL =  metal.p_fermi**2 / (3*consts.m_e*np.sqrt(metal.rho_m)*metal.v_L)\n",
    "\n",
    "  alpha2F = lambda omega : gL**2 * (metal.mstar*qD**2*omega**2)/(4*metal.p_fermi**2 *metal.T_D**2) * (Phi_L(omega*metal.l/metal.v_L)+(metal.v_L/metal.v_T)**4 * 2 * Phi_T(omega*metal.l/metal.v_T)) * consts.hbar**3 * consts.k_B**-2\n",
    "\n",
    "  alpha2_av = quad(alpha2F,0,metal.omega_D)[0] / 3\n",
    "  return alpha2_av\n",
    "\n",
    "class superconductor():\n",
    "  def __init__(self,metaldict,disordered=False):\n",
    "    self.nue = metaldict['nue']\n",
    "    self.D = metaldict['D']\n",
    "    self.Tc = metaldict['Tc']\n",
    "    self.Delta = 1.768*consts.k_B*self.Tc #eV\n",
    "    self.T_D = metaldict['T_D']\n",
    "    self.omega_D = consts.k_B*self.T_D/consts.hbar #in MHz rad\n",
    "    self.E_D = consts.k_B*self.T_D\n",
    "    self.v_L = metaldict['v_L']\n",
    "    self.v_T = metaldict['v_T']\n",
    "\n",
    "    rho_m = metaldict['rho_m (g cm-3)']\n",
    "    self.Z = metaldict['Z']\n",
    "    m_a = metaldict['m_a (u)']\n",
    "\n",
    "    self.N = consts.N_A*rho_m/m_a * 1e-12 # atoms um-3\n",
    "    self.n = self.N*self.Z # electrons um-3\n",
    "    self.rho_m = rho_m*6.242e15 *1e-12#eV us2 um-2 um-3\n",
    "\n",
    "    self.rs = (3/(4*np.pi*self.n))**(1/3)\n",
    "    self.rs_au = self.rs / consts.length_au\n",
    "    \n",
    "    self.p_fermi = np.sqrt((consts.hbar)**2*(3*np.pi**2*self.n)**(2/3))\n",
    "    self.k_fermi = self.p_fermi/consts.hbar\n",
    "    self.mstar = 2*consts.hbar**2*self.nue*np.pi**2/self.k_fermi # from suppl, fermi liquid model\n",
    "    self.v_fermi = self.p_fermi/self.mstar\n",
    "    self.e_fermi = (consts.hbar)**2/(2*self.mstar)*(3*np.pi**2*self.n)**(2/3)\n",
    "\n",
    "    self.tau_elastic = self.nue*self.D*self.mstar/self.n # <= Einstein relation (sigma = e^2 N(0) D) and drude effective mass, tau elastic time\n",
    "\n",
    "    self.l=self.v_fermi*self.tau_elastic\n",
    "\n",
    "\n",
    "    if disordered==False:\n",
    "      self.tau_0 = 0.11 #us\n",
    "      self.alpha2_av = metaldict['alpha2_av']\n",
    "    else:\n",
    "      self.tau_0 = calc_RS(self,self.Tc)\n",
    "      self.alpha2_av = calc_KSK(self)\n",
    "\n",
    "aluminium = {\n",
    "    'nue' : 17.2e9, #eV-1 um-3\n",
    "    'D' : 15000, #um2 us-1\n",
    "    'Tc' : 1.19, #K\n",
    "    'T_D' : 428.21, #K\n",
    "    'v_L' : 6420, #um/us\n",
    "    'v_T' : 3040, #um/us\n",
    "    'rho_m (g cm-3)' : 2.7, #g cm-3\n",
    "    'Z' : 3, #valence electrons per atom\n",
    "    'm_a (u)' : 26.982, #u\n",
    "    'alpha2_av' : 1.93e-3, #eV\n",
    "    'tau_0' : 0.11, #us\n",
    "}\n",
    "\n",
    "tantalum = {\n",
    "    'nue' : 30.3e9, #eV-1 um-3\n",
    "    'D' : 75, #um2 us-1\n",
    "    'Tc' : 0.87, #K\n",
    "    'T_D' : 221, #K\n",
    "    'v_L' : 4.35e3, #um/us\n",
    "    'v_T' : 1.74e3, #um/us\n",
    "    'rho_m (g cm-3)' : 17.1, #g cm-3\n",
    "    'Z' : 2, #valence electrons per atom\n",
    "    'm_a (u)' : 180.94788, #u\n",
    "  }\n",
    "\n",
    "T=0.02 #K # all calculations requiring a non-zero temperature done at 20mK\n",
    "Al = superconductor(aluminium,disordered=False)\n",
    "bTa = superconductor(tantalum,disordered=True)"
   ]
  },
  {
   "cell_type": "code",
   "execution_count": 29,
   "metadata": {},
   "outputs": [],
   "source": [
    "def calc_LP(metal,energy):\n",
    "    tau_ee = 1/((energy**2 / (consts.hbar*metal.e_fermi))*metal.rs_au**0.5 / 7.96)\n",
    "    return tau_ee\n",
    "\n",
    "def calc_pippard(metal,energy):\n",
    "    omega = energy/consts.hbar\n",
    "\n",
    "    k_L=omega/metal.v_L\n",
    "    alpha_L = metal.n*metal.mstar/(metal.rho_m*metal.v_L*metal.tau_elastic) * (1/3 * (k_L**2*metal.l**2*np.arctan(k_L*metal.l)/(k_L*metal.l-np.arctan(k_L*metal.l))) - 1)\n",
    "    tau_ph_L = 1/(metal.v_L*alpha_L)\n",
    "\n",
    "    k_T=omega/metal.v_T\n",
    "    g = 3/(2*k_T**2*metal.l**2)*((k_T**2*metal.l**2+1)/(k_T*metal.l)*np.arctan(k_T*metal.l)-1)\n",
    "    alpha_T = metal.n*metal.mstar/(metal.rho_m*metal.v_T*metal.tau_elastic) * (1-g)/g\n",
    "    tau_ph_T = 1/(metal.v_T*alpha_T)\n",
    "    return tau_ph_L,tau_ph_T\n",
    "\n",
    "@np.vectorize\n",
    "def calc_kaplan(metal,energy,T):\n",
    "    tau_s = metal.tau_0/((metal.Delta/(consts.k_B*metal.Tc))**3*(1/3*((energy/metal.Delta)**2-1)**(3/2)+5/2*((energy/metal.Delta)**2-1)**(1/2)-metal.Delta/(2*energy)*(1+4*(energy/metal.Delta)**2)*np.log(energy/metal.Delta+((energy/metal.Delta)**2-1)**(1/2))))\n",
    "\n",
    "    f = lambda e : 1/(np.exp(e/(consts.k_B*T))+1)\n",
    "\n",
    "    RB_int = lambda omega : 1/(omega**2 - metal.Delta**2)**0.5 * (omega*(energy-omega)+metal.Delta**2)/((energy-omega)**2-metal.Delta**2)**0.5 * (1-f(omega)-f(energy-omega))\n",
    "    Rphs_int = lambda omega : 1/(omega**2 - metal.Delta**2)**0.5 * (omega*(energy+omega)-metal.Delta**2)/((energy+omega)**2-metal.Delta**2)**0.5 * (f(omega)-f(energy+omega))\n",
    "\n",
    "    RB = 4*np.pi*metal.nue*metal.alpha2_av/(consts.hbar*metal.n) * quad(RB_int,metal.Delta,energy-metal.Delta)[0]\n",
    "    Rphs = 8*np.pi*metal.nue*metal.alpha2_av/(consts.hbar*metal.n) * quad(Rphs_int,metal.Delta,np.inf)[0]\n",
    "\n",
    "\n",
    "    return tau_s, 1/RB#, 1/Rphs"
   ]
  },
  {
   "cell_type": "code",
   "execution_count": 30,
   "metadata": {},
   "outputs": [
    {
     "name": "stderr",
     "output_type": "stream",
     "text": [
      "/tmp/ipykernel_69588/3206088173.py:22: RuntimeWarning: overflow encountered in exp\n",
      "  f = lambda e : 1/(np.exp(e/(consts.k_B*T))+1)\n"
     ]
    },
    {
     "data": {
      "image/png": "[encoded data removed]",
      "text/plain": [
       "<Figure size 640x480 with 1 Axes>"
      ]
     },
     "metadata": {},
     "output_type": "display_data"
    }
   ],
   "source": [
    "E_range = np.geomspace(2.01*bTa.Delta,10*bTa.E_D,1000)\n",
    "tau_ee = calc_LP(bTa,E_range)\n",
    "tau_ph_L,tau_ph_T = calc_pippard(bTa,E_range)\n",
    "tau_s,tau_B = calc_kaplan(bTa,E_range,T)\n",
    "\n",
    "plt.figure()\n",
    "#plt.loglog(E_range,1/tau_ee,label=r'$\\frac{1}{\\tau_{e-e}}$')\n",
    "plt.loglog(E_range,1/tau_ph_L,label=r'$\\tau_{ph-e,L}^{-1}$, Pippard')\n",
    "plt.loglog(E_range,1/tau_ph_T,label=r'$\\tau_{ph-e,T}^{-1}$, Pippard')\n",
    "plt.loglog(E_range,1/tau_s,label=r'$\\tau_{e-ph}^{-1}$, Reizer/Sergeyev + Kaplan')\n",
    "plt.loglog(E_range,1/tau_B,label=r'$\\tau_{ph-e,K}^{-1}$, Kaplan')\n",
    "#plt.loglog(E_range,1/tau_phs,label=r'$\\tau_{phs}^{-1}$, Kaplan')\n",
    "\n",
    "plt.vlines([2*bTa.Delta,3*bTa.Delta],1,2e11,colors='purple',label=r'$2\\Delta,3\\Delta$')\n",
    "plt.ylim(1,2e11)\n",
    "\n",
    "plt.legend()\n",
    "plt.title(r'$\\beta-$Tantalum')\n",
    "plt.xlabel('Energy (eV)')\n",
    "plt.ylabel('Rate (MHz)')\n",
    "plt.show()"
   ]
  },
  {
   "cell_type": "code",
   "execution_count": 31,
   "metadata": {},
   "outputs": [
    {
     "name": "stderr",
     "output_type": "stream",
     "text": [
      "/tmp/ipykernel_69588/3206088173.py:22: RuntimeWarning: overflow encountered in exp\n",
      "  f = lambda e : 1/(np.exp(e/(consts.k_B*T))+1)\n"
     ]
    },
    {
     "data": {
      "image/png": "[encoded data removed]",
      "text/plain": [
       "<Figure size 640x480 with 1 Axes>"
      ]
     },
     "metadata": {},
     "output_type": "display_data"
    }
   ],
   "source": [
    "E_range = np.geomspace(2.01*Al.Delta,10*Al.E_D,1000)\n",
    "tau_ee = calc_LP(Al,E_range)\n",
    "tau_ph_L,tau_ph_T = calc_pippard(Al,E_range)\n",
    "tau_s,tau_B = calc_kaplan(Al,E_range,T)\n",
    "\n",
    "plt.figure()\n",
    "#plt.loglog(E_range,1/tau_ee,label=r'$\\frac{1}{\\tau_{e-e}}$')\n",
    "plt.loglog(E_range,1/tau_ph_L,label=r'$\\tau_{ph-e,L}^{-1}$, Pippard')\n",
    "plt.loglog(E_range,1/tau_ph_T,label=r'$\\tau_{ph-e,T}^{-1}$, Pippard')\n",
    "plt.loglog(E_range,1/tau_s,label=r'$\\tau_{e-ph}^{-1}$, Kaplan')\n",
    "plt.loglog(E_range,1/tau_B,label=r'$\\tau_{ph-e,K}^{-1}$, Kaplan')\n",
    "#plt.loglog(E_range,1/tau_phs,label=r'$\\tau_{phs}^{-1}$, Kaplan')\n",
    "\n",
    "plt.vlines([2*Al.Delta,3*Al.Delta],1,2e11,colors='purple',label=r'$2\\Delta,3\\Delta$')\n",
    "plt.ylim(1,2e11)\n",
    "\n",
    "plt.legend()\n",
    "plt.title('Aluminium')\n",
    "plt.xlabel('Energy (eV)')\n",
    "plt.ylabel('Rate (MHz)')\n",
    "plt.show()"
   ]
  },
  {
   "cell_type": "markdown",
   "metadata": {},
   "source": [
    "# stage 1 check"
   ]
  },
  {
   "cell_type": "code",
   "execution_count": 32,
   "metadata": {},
   "outputs": [
    {
     "name": "stdout",
     "output_type": "stream",
     "text": [
      "tau_ee\t\t 4.692747325956656e-09\n",
      "tau_elastic\t 1.2000521132629166e-08\n",
      "213094788.73255584\n",
      "83329714.51389898\n"
     ]
    }
   ],
   "source": [
    "E1 = 67*Al.E_D\n",
    "tau_ee = calc_LP(Al,E1)\n",
    "print('tau_ee\\t\\t',tau_ee)\n",
    "print('tau_elastic\\t',Al.tau_elastic)\n",
    "print(tau_ee**-1)\n",
    "print(Al.tau_elastic**-1)"
   ]
  },
  {
   "cell_type": "code",
   "execution_count": 33,
   "metadata": {},
   "outputs": [
    {
     "name": "stdout",
     "output_type": "stream",
     "text": [
      "tau_ee\t\t 3.613740770193211e-07\n",
      "tau_elastic\t 3.450771260601039e-10\n",
      "2767215.6460368745\n",
      "2897902887.4426894\n"
     ]
    }
   ],
   "source": [
    "lambda_au = (1/(bTa.E_D*bTa.tau_0))*(bTa.E_D/(consts.k_B*bTa.Tc))**3 * consts.energy_au*consts.time_au\n",
    "\n",
    "E1 = 2.82*bTa.E_D*bTa.rs_au**(-1/4)*(lambda_au/3 * bTa.e_fermi/bTa.E_D)**(1/2)\n",
    "\n",
    "tau_ee = calc_LP(bTa,E1)\n",
    "print('tau_ee\\t\\t',tau_ee)\n",
    "print('tau_elastic\\t', bTa.tau_elastic) # = drude scattering time, based on diffusion measurement\n",
    "print(tau_ee**-1)\n",
    "print(bTa.tau_elastic**-1)"
   ]
  },
  {
   "cell_type": "markdown",
   "metadata": {},
   "source": [
    "# stage 2 check"
   ]
  },
  {
   "cell_type": "code",
   "execution_count": 34,
   "metadata": {},
   "outputs": [
    {
     "name": "stdout",
     "output_type": "stream",
     "text": [
      "tau1 =  0.4745376414608857 ps\n",
      "1.7829601425516792 ps\n",
      "1.0382181727163193 ps\n",
      "7.728226428618083 ps\n"
     ]
    },
    {
     "name": "stderr",
     "output_type": "stream",
     "text": [
      "/tmp/ipykernel_69588/3206088173.py:22: RuntimeWarning: overflow encountered in exp\n",
      "  f = lambda e : 1/(np.exp(e/(consts.k_B*T))+1)\n"
     ]
    }
   ],
   "source": [
    "#Al, replacing some values with those directly from Kozorezov, to compare 1-to-1 with his results\n",
    "\n",
    "E_D=36.9e-3\n",
    "Delta=0.17e-3\n",
    "E1 = 67*E_D\n",
    "\n",
    "lambda0=(1/(E_D*Al.tau_0))*(E_D/(consts.k_B*Al.Tc))**3\n",
    "tau1 = (3/(lambda0*E_D))*(E1/E_D)\n",
    "print('tau1 = ',tau1*1e6,'ps')\n",
    "\n",
    "tau_phD = calc_pippard(Al,E_D)\n",
    "tau_phDK = calc_kaplan(Al,E_D,T)[1]\n",
    "print(tau_phD[0]*1e6,'ps')\n",
    "print(tau_phD[1]*1e6,'ps')\n",
    "print(tau_phDK*1e6,'ps')"
   ]
  },
  {
   "cell_type": "code",
   "execution_count": 35,
   "metadata": {},
   "outputs": [
    {
     "name": "stdout",
     "output_type": "stream",
     "text": [
      "tau1 =  3.0721717609460115 ps\n",
      "54.47131418069522 ps\n",
      "18.58622094433671 ps\n",
      "6327.896550652106 ps\n"
     ]
    },
    {
     "name": "stderr",
     "output_type": "stream",
     "text": [
      "/tmp/ipykernel_69588/3206088173.py:22: RuntimeWarning: overflow encountered in exp\n",
      "  f = lambda e : 1/(np.exp(e/(consts.k_B*T))+1)\n"
     ]
    }
   ],
   "source": [
    "#bTa\n",
    "\n",
    "lambda0=(1/(bTa.E_D*bTa.tau_0))*(bTa.E_D/(consts.k_B*bTa.Tc))**3\n",
    "lambda_au = (1/(bTa.E_D*bTa.tau_0))*(bTa.E_D/(consts.k_B*bTa.Tc))**3 * consts.energy_au*consts.time_au\n",
    "E1 = 2.82*bTa.E_D*bTa.rs_au**(-1/4)*(lambda_au/3 * bTa.e_fermi/bTa.E_D)**(1/2)\n",
    "tau1 = (3/(lambda0*bTa.E_D))*(E1/bTa.E_D)\n",
    "print('tau1 = ',tau1*1e6,'ps')\n",
    "\n",
    "tau_phD = calc_pippard(bTa,bTa.E_D)\n",
    "tau_phDK = calc_kaplan(bTa,bTa.E_D,T)[1]\n",
    "print(tau_phD[0]*1e6,'ps')\n",
    "print(tau_phD[1]*1e6,'ps')\n",
    "print(tau_phDK*1e6,'ps')"
   ]
  },
  {
   "cell_type": "markdown",
   "metadata": {},
   "source": [
    "# stage 3 check - phonon diffusion"
   ]
  },
  {
   "cell_type": "code",
   "execution_count": 36,
   "metadata": {},
   "outputs": [
    {
     "name": "stdout",
     "output_type": "stream",
     "text": [
      "0.09326011725553854\n",
      "4350.0\n",
      "135.22717002053088 = D (um2/us)\n"
     ]
    },
    {
     "data": {
      "text/plain": [
       "0.09326011725553854"
      ]
     },
     "execution_count": 36,
     "metadata": {},
     "output_type": "execute_result"
    }
   ],
   "source": [
    "length = 10\n",
    "width = 10\n",
    "height = 0.04\n",
    "\n",
    "def distfunc(phi,theta):\n",
    "    return np.min(np.stack([height/2/np.sqrt(1-np.sin(phi)**2),length/2/np.sqrt(1-np.sin(theta)**2),width/2/np.sqrt(1-np.sin(np.pi/2-theta)**2)],axis=-1),axis=-1)\n",
    "\n",
    "mfp = dblquad(distfunc,0,np.pi/2,0,np.pi/2)[0]*4/np.pi**2\n",
    "\n",
    "D_ph = mfp*bTa.v_L/3\n",
    "\n",
    "print(mfp)\n",
    "\n",
    "print(bTa.v_L)\n",
    "\n",
    "print(D_ph, '= D (um2/us)')"
   ]
  },
  {
   "cell_type": "markdown",
   "metadata": {},
   "source": [
    "# Phonon lifetimes at Omega1 - sigma_IC"
   ]
  },
  {
   "cell_type": "code",
   "execution_count": 37,
   "metadata": {},
   "outputs": [
    {
     "name": "stdout",
     "output_type": "stream",
     "text": [
      "tau_B =  0.17796952583947087 ns\n",
      "tau_B_Omega1 =  271.40329387219964 ns\n",
      "tau_ph_L_Omega1 =  92.69026665082087 ns\n",
      "tau_ph_T_Omega1 =  3.9264775343431526 ns\n"
     ]
    },
    {
     "name": "stderr",
     "output_type": "stream",
     "text": [
      "/tmp/ipykernel_69588/3206088173.py:22: RuntimeWarning: overflow encountered in exp\n",
      "  f = lambda e : 1/(np.exp(e/(consts.k_B*T))+1)\n"
     ]
    }
   ],
   "source": [
    "_,tau_B = calc_kaplan(Al,1.5e-3,T)\n",
    "print('tau_B = ',tau_B*1e3,'ns')\n",
    "\n",
    "_,tau_B_Omega1 = calc_kaplan(bTa,3e-4,T)\n",
    "print('tau_B_Omega1 = ',tau_B_Omega1*1e3,'ns')\n",
    "tau_ph_L_Omega1,_ = calc_pippard(bTa,4e-4)\n",
    "print('tau_ph_L_Omega1 = ',tau_ph_L_Omega1*1e3,'ns')\n",
    "_,tau_ph_T_Omega1 = calc_pippard(bTa,9e-4)\n",
    "print('tau_ph_T_Omega1 = ',tau_ph_T_Omega1*1e3,'ns')\n"
   ]
  },
  {
   "cell_type": "markdown",
   "metadata": {},
   "source": [
    "# QP lifetimes"
   ]
  },
  {
   "cell_type": "code",
   "execution_count": 38,
   "metadata": {},
   "outputs": [
    {
     "name": "stdout",
     "output_type": "stream",
     "text": [
      "Al: 31034.657449747647 / n_qp\n",
      "bTa: 716771.4645614645 / n_qp\n"
     ]
    }
   ],
   "source": [
    "print('Al:',Al.tau_0*Al.nue*(consts.k_B*Al.Tc)**3/(2*Al.Delta**2),'/ n_qp') # P de Visser 2014 eq 2.29\n",
    "print('bTa:',bTa.tau_0*bTa.nue*(consts.k_B*bTa.Tc)**3/(2*bTa.Delta**2),'/ n_qp')\n"
   ]
  },
  {
   "cell_type": "markdown",
   "metadata": {},
   "source": [
    "# Duration calculations"
   ]
  },
  {
   "cell_type": "code",
   "execution_count": 39,
   "metadata": {},
   "outputs": [
    {
     "name": "stdout",
     "output_type": "stream",
     "text": [
      "0.0035790286876301223\n",
      "t1 =  156.83499952735804 ps\n",
      "t2 =  1.035752897438511 ns\n"
     ]
    },
    {
     "name": "stderr",
     "output_type": "stream",
     "text": [
      "/tmp/ipykernel_69588/3206088173.py:22: RuntimeWarning: overflow encountered in exp\n",
      "  f = lambda e : 1/(np.exp(e/(consts.k_B*T))+1)\n"
     ]
    }
   ],
   "source": [
    "c = Al.v_L\n",
    "nuph = 3*Al.E_D**2/(2*np.pi**2*c**3)/consts.hbar**3\n",
    "lambda1 = (lambda0*Al.nue/(2*nuph)) #eV-1 us-1\n",
    "Omega1 = Al.E_D*np.sqrt(3*lambda1/lambda0) #eV\n",
    "print(Omega1)\n",
    "\n",
    "_,tau_B_Omega1 = calc_kaplan(Al,Omega1,T)\n",
    "t1=2*tau_B_Omega1\n",
    "print('t1 = ',t1*1e6,'ps')\n",
    "\n",
    "t2,_ = calc_kaplan(Al,4.5*Al.Delta,T)\n",
    "print('t2 = ',t2*1e3,'ns')\n"
   ]
  },
  {
   "cell_type": "code",
   "execution_count": 40,
   "metadata": {},
   "outputs": [
    {
     "name": "stdout",
     "output_type": "stream",
     "text": [
      "t1_K =  542.8065877443993 ns\n",
      "t1_L =  185.38053330164175 ns\n",
      "t1_T =  7.852955068686305 ns\n",
      "t2 =  18.57391420567517 ns\n",
      "MD =  5.230669960565629 um\n"
     ]
    },
    {
     "name": "stderr",
     "output_type": "stream",
     "text": [
      "/tmp/ipykernel_69588/3206088173.py:22: RuntimeWarning: overflow encountered in exp\n",
      "  f = lambda e : 1/(np.exp(e/(consts.k_B*T))+1)\n"
     ]
    }
   ],
   "source": [
    "_,tau_B_Omega1 = calc_kaplan(bTa,3e-4,T)\n",
    "t1=2*tau_B_Omega1\n",
    "print('t1_K = ',t1*1e3,'ns')\n",
    "\n",
    "tau_ph_L_Omega1,_ = calc_pippard(bTa,4e-4)\n",
    "t1=2*tau_ph_L_Omega1\n",
    "print('t1_L = ',t1*1e3,'ns')\n",
    "\n",
    "_,tau_ph_T_Omega1 = calc_pippard(bTa,9e-4)\n",
    "t1=2*tau_ph_T_Omega1\n",
    "print('t1_T = ',t1*1e3,'ns')\n",
    "\n",
    "t2,_ = calc_kaplan(bTa,4.5*bTa.Delta,T)\n",
    "print('t2 = ',t2*1e3,'ns')\n",
    "\n",
    "print('MD = ',np.sqrt(4*D_ph*t1)+np.sqrt(4*D_ph*t2),'um')"
   ]
  },
  {
   "cell_type": "markdown",
   "metadata": {},
   "source": [
    "# Responsivity nonlinearity"
   ]
  },
  {
   "cell_type": "code",
   "execution_count": 41,
   "metadata": {},
   "outputs": [
    {
     "name": "stdout",
     "output_type": "stream",
     "text": [
      "13961.001370772039\n"
     ]
    },
    {
     "name": "stderr",
     "output_type": "stream",
     "text": [
      "/tmp/ipykernel_69588/1024026363.py:40: UserWarning: Attempt to set non-positive xlim on a log-scaled axis will be ignored.\n",
      "  plt.xlim(0,10)\n"
     ]
    },
    {
     "data": {
      "text/plain": [
       "Text(0, 0.5, '$T_{eff}$ ($T_c$)')"
      ]
     },
     "execution_count": 41,
     "metadata": {},
     "output_type": "execute_result"
    },
    {
     "data": {
      "image/png": "[encoded data removed]",
      "text/plain": [
       "<Figure size 640x480 with 1 Axes>"
      ]
     },
     "metadata": {},
     "output_type": "display_data"
    }
   ],
   "source": [
    "from scipy.special import lambertw\n",
    "\n",
    "def resp_nonlin_part_MB(metal,F0,Teff):\n",
    "   omega_0 = 2*np.pi*F0\n",
    "   xi=consts.hbar*omega_0/(2*consts.k_B*Teff)\n",
    "   nonlin = np.sqrt(2*metal.Delta/(np.pi*consts.k_B*Teff))*np.exp(-xi)*np.i0(xi)\n",
    "   return nonlin\n",
    "   \n",
    "\n",
    "def nqp_to_T(nqp,N0,Delta,height):\n",
    "   a = 2*N0*height*np.sqrt(2*np.pi*consts.k_B*Delta)\n",
    "   b = Delta/consts.k_B\n",
    "   return np.real(2*b/lambertw(2*a**2*b/(nqp**2)))\n",
    "\n",
    "def T_to_nqp(T,N0,Delta,height):\n",
    "   return 2*N0*height*np.sqrt(2*np.pi*consts.k_B*T*Delta)*np.exp(-Delta/(consts.k_B*T))\n",
    "\n",
    "Eph = consts.h*consts.c/0.402\n",
    "dNqpinit = 0.6*Eph/bTa.Delta\n",
    "\n",
    "print(dNqpinit)\n",
    "\n",
    "nqp_0=T_to_nqp(0.1,bTa.nue,bTa.Delta,0.04)\n",
    "\n",
    "sigmalist=np.linspace(0.1,15,10000)\n",
    "Tefflist=[]\n",
    "for sigma in sigmalist:\n",
    "    dnqpmax = dNqpinit/(2*np.pi*sigma**2)\n",
    "    #print(dnqpmax)\n",
    "    Tcfrac = nqp_to_T(dnqpmax+nqp_0,bTa.nue,bTa.Delta,0.04)/bTa.Tc\n",
    "    #print(Tcfrac)\n",
    "    Tefflist.append(Tcfrac)\n",
    "Tefflist=np.array(Tefflist)\n",
    "\n",
    "plt.figure()\n",
    "plt.plot(sigmalist,Tefflist,color='b')\n",
    "plt.vlines(0.7,0,0.4,colors=['red'])\n",
    "plt.semilogx()\n",
    "plt.ylim(0,1)\n",
    "plt.xlim(0,10)\n",
    "plt.xlabel(r'$\\sigma_{IC}$ ($\\mu m$)')\n",
    "plt.ylabel(r'$T_{eff}$ ($T_c$)')\n",
    "\n",
    "#print(resp_nonlin_part_MB(bTa,8500,Tcfrac*bTa.Tc))"
   ]
  }
 ],
 "metadata": {
  "kernelspec": {
   "display_name": "MTPenv",
   "language": "python",
   "name": "python3"
  },
  "language_info": {
   "codemirror_mode": {
    "name": "ipython",
    "version": 3
   },
   "file_extension": ".py",
   "mimetype": "text/x-python",
   "name": "python",
   "nbconvert_exporter": "python",
   "pygments_lexer": "ipython3",
   "version": "3.12.4"
  }
 },
 "nbformat": 4,
 "nbformat_minor": 2
}
